{
 "cells": [
  {
   "cell_type": "code",
   "execution_count": 1,
   "metadata": {},
   "outputs": [
    {
     "name": "stdout",
     "output_type": "stream",
     "text": [
      "8.6666667\n",
      "3.2222222\n",
      "35.0\n",
      "18.0\n",
      "15.0\n",
      "12.0\n",
      "177.55555539999997\n"
     ]
    }
   ],
   "source": [
    "from pulp import LpVariable, LpProblem, LpMaximize, LpStatus, value, LpMinimize\n",
    "\n",
    "t1=LpVariable('t1',0,None)\n",
    "t2=LpVariable('t2',0,None)\n",
    "w1=LpVariable('w1',0,None)\n",
    "w2=LpVariable('w2',0,None)\n",
    "d1=LpVariable('d1',0,None)\n",
    "d2=LpVariable('d2',0,None)\n",
    "\n",
    "prob=LpProblem('problem', LpMaximize)\n",
    "\n",
    "prob+=w1 + d1 <= 50\n",
    "prob+=w2 + d2 <= 30\n",
    "prob+=w1 + w2 <= 5*t1 + 3*t2\n",
    "prob+=d1 + d2 <= 2*t1 + 3*t2\n",
    "prob+=w1 >= .7*(w1+d1)\n",
    "prob+=w2 >= .6*(w2+d2)\n",
    "prob+=t1>=0\n",
    "prob+=t2>=0\n",
    "prob+=w1>=0\n",
    "prob+=w2>=0\n",
    "prob+=d1>=0\n",
    "prob+=d2>=0\n",
    "\n",
    "prob+=4*(w1+d1) + 3*(w2+d2) - 10*t1 - 8*t2\n",
    "\n",
    "status=prob.solve()\n",
    "LpStatus[status]\n",
    "\n",
    "print(value(t1))\n",
    "print(value(t2))\n",
    "print(value(w1))\n",
    "print(value(w2))\n",
    "print(value(d1))\n",
    "print(value(d2))\n",
    "\n",
    "print(4*(value(w1)+value(d1))+3*(value(w2)+value(d2))-10*value(t1)-8*value(t2))"
   ]
  },
  {
   "cell_type": "code",
   "execution_count": null,
   "metadata": {},
   "outputs": [],
   "source": []
  }
 ],
 "metadata": {
  "kernelspec": {
   "display_name": "Python 3",
   "language": "python",
   "name": "python3"
  },
  "language_info": {
   "codemirror_mode": {
    "name": "ipython",
    "version": 3
   },
   "file_extension": ".py",
   "mimetype": "text/x-python",
   "name": "python",
   "nbconvert_exporter": "python",
   "pygments_lexer": "ipython3",
   "version": "3.8.5"
  }
 },
 "nbformat": 4,
 "nbformat_minor": 4
}
